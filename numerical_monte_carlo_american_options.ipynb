{
 "cells": [
  {
   "cell_type": "markdown",
   "metadata": {},
   "source": [
    "# Numerical Approximation  vs Monte Carlo Simulation"
   ]
  },
  {
   "cell_type": "code",
   "execution_count": 9,
   "metadata": {},
   "outputs": [],
   "source": [
    "import warnings\n",
    "warnings.filterwarnings(\"ignore\")\n",
    "from options.montecarlo import OptionPricerMC\n",
    "pricer = OptionPricerMC()"
   ]
  },
  {
   "cell_type": "markdown",
   "metadata": {},
   "source": [
    "# 1. American Call"
   ]
  },
  {
   "cell_type": "code",
   "execution_count": 26,
   "metadata": {},
   "outputs": [
    {
     "output_type": "stream",
     "name": "stdout",
     "text": "0.03191145177187593 0.029484691809796484\n0.2 0.20000000000000534\n"
    }
   ],
   "source": [
    "# Value American Call using numerical \n",
    "premium_num = pricer.american_premium(cp = \"Call\", ul =  100, sp = 110, dte =  19 , ir = 0.01 , coc = 0 , iv = 0.2 , diy = 365 )\n",
    "premium_mc = pricer.american_premium_mc( cp = \"Call\", ul =  100, sp = 110, dte =  19 , ir = 0.01 , coc = 0 , iv = 0.2 , diy = 365 ,nobs = 50000)\n",
    "\n",
    "print(premium_num , premium_mc)\n",
    "\n",
    "# Guess the implied volatilituy\n",
    "iv = pricer.get_implied_volatility( cp = \"Call\", ul = 100, sp = 110, dte = 19, ir = 0.01, coc = 0 , diy =  365, premium = premium_num)\n",
    "\n",
    "\n",
    "print(0.2 , iv)"
   ]
  },
  {
   "cell_type": "markdown",
   "metadata": {},
   "source": [
    "# 2. American Put"
   ]
  },
  {
   "cell_type": "code",
   "execution_count": 28,
   "metadata": {},
   "outputs": [
    {
     "output_type": "stream",
     "name": "stdout",
     "text": "0.9641848112165547 0.88723563997789\n0.3 0.299999999999996\n"
    }
   ],
   "source": [
    "# Value American Call using numerical \n",
    "premium_num = pricer.american_premium(cp = \"Put\", ul =  100, sp = 90, dte =  50 , ir = 0.01 , coc = 0 , iv = 0.3, diy = 365 )\n",
    "premium_mc = pricer.american_premium_mc( cp = \"Put\", ul =  100, sp = 90, dte =  50 , ir = 0.01 , coc = 0 , iv = 0.3, diy = 365 ,nobs = 50000)\n",
    "\n",
    "print(premium_num , premium_mc)\n",
    "\n",
    "# Guess the implied volatilituy\n",
    "iv = pricer.get_implied_volatility( cp = \"Put\", ul = 100, sp = 90, dte = 50, ir = 0.01, coc = 0 , diy =  365, premium = premium_num)\n",
    "\n",
    "print(0.3 , iv)"
   ]
  }
 ],
 "metadata": {
  "kernelspec": {
   "display_name": "plain",
   "language": "python",
   "name": "plain"
  },
  "language_info": {
   "codemirror_mode": {
    "name": "ipython",
    "version": 3
   },
   "file_extension": ".py",
   "mimetype": "text/x-python",
   "name": "python",
   "nbconvert_exporter": "python",
   "pygments_lexer": "ipython3",
   "version": "3.7.4-final"
  }
 },
 "nbformat": 4,
 "nbformat_minor": 4
}